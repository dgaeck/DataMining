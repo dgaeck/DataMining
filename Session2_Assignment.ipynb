{
  "cells": [
    {
      "cell_type": "markdown",
      "metadata": {
        "id": "view-in-github",
        "colab_type": "text"
      },
      "source": [
        "<a href=\"https://colab.research.google.com/github/dgaeck/DataMining/blob/main/Session2_Assignment.ipynb\" target=\"_parent\"><img src=\"https://colab.research.google.com/assets/colab-badge.svg\" alt=\"Open In Colab\"/></a>"
      ]
    },
    {
      "cell_type": "markdown",
      "metadata": {
        "id": "KzIWvLRURFlN"
      },
      "source": [
        "# Session 2 Team Based Assignment\n",
        "\n",
        "USe the following dataset: [Wisconsin breast cancer](https://foxweb.marist.edu/users/jf4n/DATA_FILES/wisc_bc_data.xlsx), and complete the following exercises (for details regarding the data set, read below).<br>\n",
        "\n",
        "The dataset is provided in Excel (.xlsx) format.<br>\n",
        "Maximum grade: 100 points <br>\n",
        "\n",
        "\n",
        "Questions:<br>\n",
        "1.\tExplore whether there are missing values for any of the variables. Show how you did so\n",
        "2.\tUse a graph to determine visually whether there are any outliers in the average concavity field (concavity_mean) that measures the severity of concave portions of the contour. What kind of graph would provide better visualization for this task?\n",
        "3.\tTransform the radius_mean attribute using max-min normalization. Using a graph, describe the range of the standardized values.\n",
        "4.\tHow would you transform all 30 metrics to Z-scores? Remember that a z-score is another form of normalization: you substract the mean from the variable, and divide by its std dev.   \n",
        "5.\tInvestigate whether there are any correlated variables among the first 10 numeric fields (the ones with _mean prefix)\n",
        "6.\tConstruct a histogram of radius_mean, with an overlay of the target variable diagnosis  (hint: by overlay I mean that you stack the histograms for each diagnosis) Explain the results.\n",
        "\n",
        "\n",
        "The file's URL is https://foxweb.marist.edu/users/jf4n/DATA_FILES/wisc_bc_data.xlsx\n",
        "\n",
        "\n",
        "\n"
      ]
    },
    {
      "cell_type": "markdown",
      "source": [
        "---------------------------\n",
        "**Breast Cancer Wisconsin (Diagnostic) Data Set**\n",
        "\n",
        "The data includes the measurements from digitized images of fine-needle aspirate of a breast mass. The values represent the characteristics of the cell nuclei present in the digital image. The data includes 569 examples of cancer biopsies, each with 32 features. The first feature is an ID number, the second is the cancer diagnosis, and they are followed by 30 numeric-valued lab measurements. The diagnosis is coded as “M” to indicate malignant, or “B” to indicate benign. Measurements comprise the mean, standard error, and worst (ie largest) value for 10 different characteristics of the digitized cell nuclei. The features relate to the shape and size of the cell nuclei.\n",
        "Abstract: Diagnostic Wisconsin Breast Cancer Database\n",
        "Data Set Characteristics:\n",
        "- Multivariate\tNumber of Instances:\t569\n",
        "- Area:\tLife\n",
        "- Attribute Characteristics:\tReal\n",
        "- Number of Attributes:\t32\n",
        "- Date Donated\t1995-11-01\n",
        "Source: https://archive.ics.uci.edu/ml/datasets/Breast+Cancer+Wisconsin+(Diagnostic) <br>\n",
        "\n",
        "**Creators:\n",
        "\n",
        "1. Dr. William H. Wolberg, General Surgery Dept.\n",
        "University of Wisconsin, Clinical Sciences Center\n",
        "Madison, WI 53792\n",
        "wolberg '@' eagle.surgery.wisc.edu\n",
        "\n",
        "2. W. Nick Street, Computer Sciences Dept.\n",
        "University of Wisconsin, 1210 West Dayton St., Madison, WI 53706\n",
        "street '@' cs.wisc.edu 608-262-6619\n",
        "\n",
        "3. Olvi L. Mangasarian, Computer Sciences Dept.\n",
        "University of Wisconsin, 1210 West Dayton St., Madison, WI 53706\n",
        "olvi '@' cs.wisc.edu\n",
        "\n",
        "Data Set Information:\n",
        "Features are computed from a digitized image of a fine needle aspirate (FNA) of a breast mass. They describe characteristics of the cell nuclei present in the image. A few of the images can be found at [Web Link]\n",
        "\n",
        "Separating plane described above was obtained using Multisurface Method-Tree (MSM-T) [K. P. Bennett, \"Decision Tree Construction Via Linear Programming.\" Proceedings of the 4th Midwest Artificial Intelligence and Cognitive Science Society, pp. 97-101, 1992], a classification method which uses linear programming to construct a decision tree. Relevant features were selected using an exhaustive search in the space of 1-4 features and 1-3 separating planes.\n",
        "\n",
        "The actual linear program used to obtain the separating plane in the 3-dimensional space is that described in: [K. P. Bennett and O. L. Mangasarian: \"Robust Linear Programming Discrimination of Two Linearly Inseparable Sets\", Optimization Methods and Software 1, 1992, 23-34].\n",
        "\n",
        "-----------------------------------"
      ],
      "metadata": {
        "id": "JDRC7z71iR1c"
      }
    }
  ],
  "metadata": {
    "kernelspec": {
      "display_name": "Python 3 (ipykernel)",
      "language": "python",
      "name": "python3"
    },
    "language_info": {
      "codemirror_mode": {
        "name": "ipython",
        "version": 3
      },
      "file_extension": ".py",
      "mimetype": "text/x-python",
      "name": "python",
      "nbconvert_exporter": "python",
      "pygments_lexer": "ipython3",
      "version": "3.11.3"
    },
    "colab": {
      "provenance": [],
      "include_colab_link": true
    }
  },
  "nbformat": 4,
  "nbformat_minor": 0
}